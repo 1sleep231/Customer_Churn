{
 "cells": [
  {
   "cell_type": "code",
   "execution_count": 1,
   "id": "65b12501",
   "metadata": {},
   "outputs": [],
   "source": [
    "import pandas as pd\n",
    "import numpy as np\n",
    "\n",
    "# Data Viz Libraries\n",
    "import matplotlib.pyplot as plt\n",
    "import seaborn as sns\n",
    "\n",
    "# Machine Learning Libraries\n",
    "from sklearn.model_selection import train_test_split, GridSearchCV, RandomizedSearchCV # Menambahkan GridSearchCV/RandomizedSearchCV\n",
    "from sklearn.preprocessing import StandardScaler, OneHotEncoder\n",
    "from sklearn.compose import ColumnTransformer\n",
    "from sklearn.pipeline import Pipeline\n",
    "from sklearn.linear_model import LogisticRegression\n",
    "from sklearn.ensemble import RandomForestClassifier\n",
    "from sklearn.metrics import confusion_matrix, accuracy_score, precision_score, recall_score, f1_score, roc_auc_score, roc_curve, classification_report, precision_recall_curve, auc\n",
    "from imblearn.over_sampling import SMOTE\n",
    "\n",
    "\n",
    "# Statistical Libraries\n",
    "from scipy.stats import chi2_contingency\n",
    "from imblearn.over_sampling import SMOTE\n",
    "\n",
    "# Supress Warnings\n",
    "import warnings\n",
    "warnings.filterwarnings(\"ignore\")"
   ]
  },
  {
   "cell_type": "markdown",
   "id": "14751a02",
   "metadata": {},
   "source": [
    "## Data Overview\n",
    "\n",
    "Dimulai dengan meng-import dataset sebagai DataFrame dengan Pandas, serta melihat 5 baris pertama dengan head() method.\n",
    "Lalu, melakukan pembersihan kolom yang tidak relevan dengan tujuan proyek."
   ]
  },
  {
   "cell_type": "code",
   "execution_count": 3,
   "id": "4945bb33",
   "metadata": {},
   "outputs": [],
   "source": [
    "import pandas as pd\n",
    "import numpy as np\n",
    "\n",
    "# Data Viz Libraries\n",
    "import matplotlib.pyplot as plt\n",
    "import seaborn as sns\n",
    "\n",
    "# Machine Learning Libraries\n",
    "from sklearn.model_selection import train_test_split, GridSearchCV, RandomizedSearchCV # Menambahkan GridSearchCV/RandomizedSearchCV\n",
    "from sklearn.preprocessing import StandardScaler, OneHotEncoder\n",
    "from sklearn.compose import ColumnTransformer\n",
    "from sklearn.pipeline import Pipeline\n",
    "from sklearn.linear_model import LogisticRegression\n",
    "from sklearn.ensemble import RandomForestClassifier\n",
    "from sklearn.metrics import confusion_matrix, accuracy_score, precision_score, recall_score, f1_score, roc_auc_score, roc_curve, classification_report, precision_recall_curve, auc\n",
    "from imblearn.over_sampling import SMOTE\n",
    "\n",
    "\n",
    "# Statistical Libraries\n",
    "from scipy.stats import chi2_contingency\n",
    "from imblearn.over_sampling import SMOTE\n",
    "\n",
    "# Supress Warnings\n",
    "import warnings\n",
    "warnings.filterwarnings(\"ignore\")"
   ]
  },
  {
   "cell_type": "code",
   "execution_count": 5,
   "id": "279592bb",
   "metadata": {},
   "outputs": [
    {
     "name": "stdout",
     "output_type": "stream",
     "text": [
      "Dataset berhasil dimuat!\n",
      "   RowNumber  CustomerId   Surname  CreditScore Geography  Gender  Age  \\\n",
      "0          1    15634602  Hargrave          619    France  Female   42   \n",
      "1          2    15647311      Hill          608     Spain  Female   41   \n",
      "2          3    15619304      Onio          502    France  Female   42   \n",
      "3          4    15701354      Boni          699    France  Female   39   \n",
      "4          5    15737888  Mitchell          850     Spain  Female   43   \n",
      "\n",
      "   Tenure    Balance  NumOfProducts  HasCrCard  IsActiveMember  \\\n",
      "0       2       0.00              1          1               1   \n",
      "1       1   83807.86              1          0               1   \n",
      "2       8  159660.80              3          1               0   \n",
      "3       1       0.00              2          0               0   \n",
      "4       2  125510.82              1          1               1   \n",
      "\n",
      "   EstimatedSalary  Exited  \n",
      "0        101348.88       1  \n",
      "1        112542.58       0  \n",
      "2        113931.57       1  \n",
      "3         93826.63       0  \n",
      "4         79084.10       0  \n",
      "\n",
      "--- Informasi Dataset ---\n",
      "<class 'pandas.core.frame.DataFrame'>\n",
      "RangeIndex: 10000 entries, 0 to 9999\n",
      "Data columns (total 14 columns):\n",
      " #   Column           Non-Null Count  Dtype  \n",
      "---  ------           --------------  -----  \n",
      " 0   RowNumber        10000 non-null  int64  \n",
      " 1   CustomerId       10000 non-null  int64  \n",
      " 2   Surname          10000 non-null  object \n",
      " 3   CreditScore      10000 non-null  int64  \n",
      " 4   Geography        10000 non-null  object \n",
      " 5   Gender           10000 non-null  object \n",
      " 6   Age              10000 non-null  int64  \n",
      " 7   Tenure           10000 non-null  int64  \n",
      " 8   Balance          10000 non-null  float64\n",
      " 9   NumOfProducts    10000 non-null  int64  \n",
      " 10  HasCrCard        10000 non-null  int64  \n",
      " 11  IsActiveMember   10000 non-null  int64  \n",
      " 12  EstimatedSalary  10000 non-null  float64\n",
      " 13  Exited           10000 non-null  int64  \n",
      "dtypes: float64(2), int64(9), object(3)\n",
      "memory usage: 1.1+ MB\n",
      "\n",
      "--- Statistik Deskriptif ---\n",
      "                   count          mean           std          min  \\\n",
      "RowNumber        10000.0  5.000500e+03   2886.895680         1.00   \n",
      "CustomerId       10000.0  1.569094e+07  71936.186123  15565701.00   \n",
      "CreditScore      10000.0  6.505288e+02     96.653299       350.00   \n",
      "Age              10000.0  3.892180e+01     10.487806        18.00   \n",
      "Tenure           10000.0  5.012800e+00      2.892174         0.00   \n",
      "Balance          10000.0  7.648589e+04  62397.405202         0.00   \n",
      "NumOfProducts    10000.0  1.530200e+00      0.581654         1.00   \n",
      "HasCrCard        10000.0  7.055000e-01      0.455840         0.00   \n",
      "IsActiveMember   10000.0  5.151000e-01      0.499797         0.00   \n",
      "EstimatedSalary  10000.0  1.000902e+05  57510.492818        11.58   \n",
      "Exited           10000.0  2.037000e-01      0.402769         0.00   \n",
      "\n",
      "                         25%           50%           75%          max  \n",
      "RowNumber            2500.75  5.000500e+03  7.500250e+03     10000.00  \n",
      "CustomerId       15628528.25  1.569074e+07  1.575323e+07  15815690.00  \n",
      "CreditScore           584.00  6.520000e+02  7.180000e+02       850.00  \n",
      "Age                    32.00  3.700000e+01  4.400000e+01        92.00  \n",
      "Tenure                  3.00  5.000000e+00  7.000000e+00        10.00  \n",
      "Balance                 0.00  9.719854e+04  1.276442e+05    250898.09  \n",
      "NumOfProducts           1.00  1.000000e+00  2.000000e+00         4.00  \n",
      "HasCrCard               0.00  1.000000e+00  1.000000e+00         1.00  \n",
      "IsActiveMember          0.00  1.000000e+00  1.000000e+00         1.00  \n",
      "EstimatedSalary     51002.11  1.001939e+05  1.493882e+05    199992.48  \n",
      "Exited                  0.00  0.000000e+00  0.000000e+00         1.00  \n"
     ]
    }
   ],
   "source": [
    "# --- 1. Memuat Data (Loading Data) ---\n",
    "# Memuat dataset Churn_Modelling.csv\n",
    "# Pastikan file 'Churn_Modelling.csv' berada di direktori yang sama dengan notebook ini,\n",
    "# atau sediakan path lengkap ke file tersebut.\n",
    "try:\n",
    "    df = pd.read_csv('Churn_Modelling.csv')\n",
    "    print(\"Dataset berhasil dimuat!\")\n",
    "    print(df.head())\n",
    "except FileNotFoundError:\n",
    "    print(\"Error: File 'Churn_Modelling.csv' tidak ditemukan. Pastikan file berada di direktori yang benar.\")\n",
    "    # Exit atau tangani error lebih lanjut jika file tidak ada\n",
    "    exit()\n",
    "\n",
    "# Menampilkan informasi dasar dataset\n",
    "print(\"\\n--- Informasi Dataset ---\")\n",
    "df.info()\n",
    "\n",
    "# Menampilkan statistik deskriptif\n",
    "print(\"\\n--- Statistik Deskriptif ---\")\n",
    "print(df.describe().T) # Menggunakan .T agar lebih mudah dibaca"
   ]
  },
  {
   "cell_type": "code",
   "execution_count": 6,
   "id": "ad17810f",
   "metadata": {},
   "outputs": [
    {
     "name": "stdout",
     "output_type": "stream",
     "text": [
      "\n",
      "Kolom 'RowNumber', 'CustomerId', 'Surname' berhasil dihapus.\n",
      "\n",
      "--- Melakukan pengecekan terhadap missing values ---\n",
      "CreditScore        0\n",
      "Geography          0\n",
      "Gender             0\n",
      "Age                0\n",
      "Tenure             0\n",
      "Balance            0\n",
      "NumOfProducts      0\n",
      "HasCrCard          0\n",
      "IsActiveMember     0\n",
      "EstimatedSalary    0\n",
      "Exited             0\n",
      "dtype: int64\n",
      "\n",
      "Variabel Kategorikal: ['Geography', 'Gender', 'Tenure', 'NumOfProducts', 'HasCrCard', 'IsActiveMember']\n",
      "Variabel Numerik : ['Age', 'CreditScore', 'Balance', 'EstimatedSalary']\n"
     ]
    }
   ],
   "source": [
    "# --- 2. Pembersihan dan Persiapan Data Awal (Initial Data Cleaning and Preparation) ---\n",
    "\n",
    "# Menghapus kolom yang tidak relevan untuk prediksi churn\n",
    "# 'RowNumber', 'CustomerId', 'Surname' biasanya tidak memberikan informasi prediktif\n",
    "df.drop(['RowNumber', 'CustomerId', 'Surname'], axis=1, inplace=True)\n",
    "print(\"\\nKolom 'RowNumber', 'CustomerId', 'Surname' berhasil dihapus.\")\n",
    "\n",
    "# Mengidentifikasi missing values\n",
    "print(\"\\n--- Melakukan pengecekan terhadap missing values ---\")\n",
    "print(df.isnull().sum())\n",
    "# Untuk dataset ini, sepertinya tidak ada missing values, tapi langkah ini penting\n",
    "\n",
    "\n",
    "# --- 3. Identifikasi Variabel Kategorikal dan Numerik ---\n",
    "# Variabel kategorikal\n",
    "categorical_features = ['Geography', 'Gender', 'Tenure', 'NumOfProducts', 'HasCrCard', 'IsActiveMember'] \n",
    "# Variabel numerik (kontinu)\n",
    "numerical_features = ['Age', 'CreditScore', 'Balance', 'EstimatedSalary']\n",
    "\n",
    "print(f\"\\nVariabel Kategorikal: {list(categorical_features)}\")\n",
    "print(f\"Variabel Numerik : {list(numerical_features)}\")"
   ]
  },
  {
   "cell_type": "markdown",
   "id": "77f1513d",
   "metadata": {},
   "source": [
    "## Exploratory Data Analysis"
   ]
  },
  {
   "cell_type": "code",
   "execution_count": 7,
   "id": "45ca9c5b",
   "metadata": {},
   "outputs": [
    {
     "name": "stdout",
     "output_type": "stream",
     "text": [
      "\n",
      "--- Distribusi Variabel Target (Exited) ---\n",
      "Exited\n",
      "0    7963\n",
      "1    2037\n",
      "Name: count, dtype: int64\n",
      "Exited\n",
      "0    79.63\n",
      "1    20.37\n",
      "Name: proportion, dtype: float64\n"
     ]
    },
    {
     "data": {
      "image/png": "[encoded data removed]",
      "text/plain": [
       "<Figure size 600x400 with 1 Axes>"
      ]
     },
     "metadata": {},
     "output_type": "display_data"
    }
   ],
   "source": [
    "# --- 3. Eksplorasi Data Awal (Initial Exploratory Data Analysis - EDA) ---\n",
    "\n",
    "# Analisis distribusi variabel target (Exited)\n",
    "print(\"\\n--- Distribusi Variabel Target (Exited) ---\")\n",
    "print(df['Exited'].value_counts())\n",
    "print(df['Exited'].value_counts(normalize=True) * 100) # Persentase churn\n",
    "\n",
    "# Visualisasi distribusi variabel target\n",
    "plt.figure(figsize=(6, 4))\n",
    "sns.countplot(x='Exited', data=df)\n",
    "plt.title('Distribusi Pelanggan Churn vs. Tidak Churn')\n",
    "plt.xlabel('Exited (0: Tidak Churn, 1: Churn)')\n",
    "plt.ylabel('Jumlah Pelanggan')\n",
    "plt.xticks([0, 1], ['Tidak Churn', 'Churn'])\n",
    "plt.show()"
   ]
  },
  {
   "cell_type": "code",
   "execution_count": 8,
   "id": "508a8000",
   "metadata": {},
   "outputs": [
    {
     "name": "stdout",
     "output_type": "stream",
     "text": [
      "Train set: 8000 rows x 11 columns\n",
      " Test set: 2000 rows x 11 columns\n"
     ]
    }
   ],
   "source": [
    "train_df, test_df = train_test_split(df, test_size=0.2, random_state=42)\n",
    "\n",
    "train_df.reset_index(drop=True, inplace=True)\n",
    "test_df.reset_index(drop=True, inplace=True)\n",
    "\n",
    "print('Train set: {} rows x {} columns'.format(train_df.shape[0],\n",
    "                                               train_df.shape[1]))\n",
    "print(' Test set: {} rows x {} columns'.format(test_df.shape[0],\n",
    "                                               test_df.shape[1]))"
   ]
  },
  {
   "cell_type": "code",
   "execution_count": 10,
   "id": "27871125",
   "metadata": {},
   "outputs": [
    {
     "data": {
      "text/plain": [
       "Exited\n",
       "0    6356\n",
       "1    1644\n",
       "Name: count, dtype: int64"
      ]
     },
     "execution_count": 10,
     "metadata": {},
     "output_type": "execute_result"
    }
   ],
   "source": [
    "train_df['Exited'].value_counts()"
   ]
  },
  {
   "cell_type": "code",
   "execution_count": null,
   "id": "955750ce",
   "metadata": {},
   "outputs": [],
   "source": []
  }
 ],
 "metadata": {
  "kernelspec": {
   "display_name": "cchurnenv",
   "language": "python",
   "name": "python3"
  },
  "language_info": {
   "codemirror_mode": {
    "name": "ipython",
    "version": 3
   },
   "file_extension": ".py",
   "mimetype": "text/x-python",
   "name": "python",
   "nbconvert_exporter": "python",
   "pygments_lexer": "ipython3",
   "version": "3.12.11"
  }
 },
 "nbformat": 4,
 "nbformat_minor": 5
}
